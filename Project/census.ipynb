{
 "cells": [
  {
   "cell_type": "code",
   "execution_count": 1,
   "metadata": {
    "collapsed": false
   },
   "outputs": [],
   "source": [
    "import pandas as pd\n",
    "import numpy as np\n",
    "from pandas import DataFrame"
   ]
  },
  {
   "cell_type": "code",
   "execution_count": 2,
   "metadata": {
    "collapsed": false,
    "scrolled": true
   },
   "outputs": [
    {
     "name": "stderr",
     "output_type": "stream",
     "text": [
      "/Library/Python/2.7/site-packages/numpy/lib/arraysetops.py:216: FutureWarning: numpy not_equal will not check object identity in the future. The comparison did not return the same result as suggested by the identity (`is`)) and will change.\n",
      "  flag = np.concatenate(([True], aux[1:] != aux[:-1]))\n"
     ]
    },
    {
     "name": "stdout",
     "output_type": "stream",
     "text": [
      "             Pclass  Sex  Age  SibSp  Parch  Fare  Embarked\n",
      "PassengerId                                                \n",
      "1                 2    1   28      1      0    18         3\n",
      "2                 0    0   51      1      0   207         1\n",
      "3                 2    0   34      0      0    41         3\n",
      "4                 0    0   47      1      0   189         3\n",
      "5                 2    1   47      0      0    43         3\n",
      "6                 2    1  110      0      0    51         2\n",
      "7                 0    1   69      0      0   186         3\n",
      "8                 2    1    6      3      1   124         3\n",
      "9                 2    0   35      0      2    74         3\n",
      "10                1    0   18      1      0   154         1\n",
      "train accuracy = 0.98736\n",
      "test accuracy = 0.76536\n",
      "             Pclass     Sex   Age  SibSp  Parch     Fare Embarked\n",
      "PassengerId                                                      \n",
      "1                 3    male  22.0      1      0   7.2500        S\n",
      "2                 1  female  38.0      1      0  71.2833        C\n",
      "3                 3  female  26.0      0      0   7.9250        S\n",
      "4                 1  female  35.0      1      0  53.1000        S\n",
      "5                 3    male  35.0      0      0   8.0500        S\n",
      "6                 3    male   NaN      0      0   8.4583        Q\n",
      "7                 1    male  54.0      0      0  51.8625        S\n",
      "8                 3    male   2.0      3      1  21.0750        S\n",
      "9                 3  female  27.0      0      2  11.1333        S\n",
      "10                2  female  14.0      1      0  30.0708        C\n",
      "train accuracy = 0.94944\n",
      "test accuracy = 0.77095\n",
      "train accuracy = 0.80197\n",
      "test accuracy = 0.76536\n",
      "train accuracy = 0.87219\n",
      "test accuracy = 0.85475\n",
      "             Pclass  Sex  Age  SibSp  Parch  Fare  Embarked\n",
      "PassengerId                                                \n",
      "1                 2    1   28      1      0    18         3\n",
      "2                 0    0   51      1      0   207         1\n",
      "3                 2    0   34      0      0    41         3\n",
      "4                 0    0   47      1      0   189         3\n",
      "5                 2    1   47      0      0    43         3\n",
      "6                 2    1  110      0      0    51         2\n",
      "7                 0    1   69      0      0   186         3\n",
      "8                 2    1    6      3      1   124         3\n",
      "9                 2    0   35      0      2    74         3\n",
      "10                1    0   18      1      0   154         1\n",
      "train accuracy = 0.98736\n",
      "test accuracy = 0.81006\n"
     ]
    }
   ],
   "source": [
    "import sys\n",
    "sys.path.append('./inc/')\n",
    "import ID3\n",
    "import C4_5"
   ]
  },
  {
   "cell_type": "markdown",
   "metadata": {},
   "source": [
    "## Import the data set"
   ]
  },
  {
   "cell_type": "code",
   "execution_count": 3,
   "metadata": {
    "collapsed": true
   },
   "outputs": [],
   "source": [
    "Columns = ['age', 'workclass', 'fnlwgt', 'education', 'education-num', 'marital-status', 'occupation', 'relationship', 'race', 'sex', 'capital-gain', 'capital-loss', 'hours-per-week', 'native-country','income-level']\n"
   ]
  },
  {
   "cell_type": "code",
   "execution_count": 4,
   "metadata": {
    "collapsed": false,
    "scrolled": false
   },
   "outputs": [
    {
     "data": {
      "text/html": [
       "<div>\n",
       "<table border=\"1\" class=\"dataframe\">\n",
       "  <thead>\n",
       "    <tr style=\"text-align: right;\">\n",
       "      <th></th>\n",
       "      <th>age</th>\n",
       "      <th>workclass</th>\n",
       "      <th>fnlwgt</th>\n",
       "      <th>education</th>\n",
       "      <th>education-num</th>\n",
       "      <th>marital-status</th>\n",
       "      <th>occupation</th>\n",
       "      <th>relationship</th>\n",
       "      <th>race</th>\n",
       "      <th>sex</th>\n",
       "      <th>capital-gain</th>\n",
       "      <th>capital-loss</th>\n",
       "      <th>hours-per-week</th>\n",
       "      <th>native-country</th>\n",
       "      <th>income-level</th>\n",
       "    </tr>\n",
       "  </thead>\n",
       "  <tbody>\n",
       "    <tr>\n",
       "      <th>0</th>\n",
       "      <td>39</td>\n",
       "      <td>State-gov</td>\n",
       "      <td>77516</td>\n",
       "      <td>Bachelors</td>\n",
       "      <td>13</td>\n",
       "      <td>Never-married</td>\n",
       "      <td>Adm-clerical</td>\n",
       "      <td>Not-in-family</td>\n",
       "      <td>White</td>\n",
       "      <td>Male</td>\n",
       "      <td>2174</td>\n",
       "      <td>0</td>\n",
       "      <td>40</td>\n",
       "      <td>United-States</td>\n",
       "      <td>0</td>\n",
       "    </tr>\n",
       "    <tr>\n",
       "      <th>1</th>\n",
       "      <td>50</td>\n",
       "      <td>Self-emp-not-inc</td>\n",
       "      <td>83311</td>\n",
       "      <td>Bachelors</td>\n",
       "      <td>13</td>\n",
       "      <td>Married-civ-spouse</td>\n",
       "      <td>Exec-managerial</td>\n",
       "      <td>Husband</td>\n",
       "      <td>White</td>\n",
       "      <td>Male</td>\n",
       "      <td>0</td>\n",
       "      <td>0</td>\n",
       "      <td>13</td>\n",
       "      <td>United-States</td>\n",
       "      <td>0</td>\n",
       "    </tr>\n",
       "    <tr>\n",
       "      <th>2</th>\n",
       "      <td>38</td>\n",
       "      <td>Private</td>\n",
       "      <td>215646</td>\n",
       "      <td>HS-grad</td>\n",
       "      <td>9</td>\n",
       "      <td>Divorced</td>\n",
       "      <td>Handlers-cleaners</td>\n",
       "      <td>Not-in-family</td>\n",
       "      <td>White</td>\n",
       "      <td>Male</td>\n",
       "      <td>0</td>\n",
       "      <td>0</td>\n",
       "      <td>40</td>\n",
       "      <td>United-States</td>\n",
       "      <td>0</td>\n",
       "    </tr>\n",
       "    <tr>\n",
       "      <th>3</th>\n",
       "      <td>53</td>\n",
       "      <td>Private</td>\n",
       "      <td>234721</td>\n",
       "      <td>11th</td>\n",
       "      <td>7</td>\n",
       "      <td>Married-civ-spouse</td>\n",
       "      <td>Handlers-cleaners</td>\n",
       "      <td>Husband</td>\n",
       "      <td>Black</td>\n",
       "      <td>Male</td>\n",
       "      <td>0</td>\n",
       "      <td>0</td>\n",
       "      <td>40</td>\n",
       "      <td>United-States</td>\n",
       "      <td>0</td>\n",
       "    </tr>\n",
       "    <tr>\n",
       "      <th>4</th>\n",
       "      <td>28</td>\n",
       "      <td>Private</td>\n",
       "      <td>338409</td>\n",
       "      <td>Bachelors</td>\n",
       "      <td>13</td>\n",
       "      <td>Married-civ-spouse</td>\n",
       "      <td>Prof-specialty</td>\n",
       "      <td>Wife</td>\n",
       "      <td>Black</td>\n",
       "      <td>Female</td>\n",
       "      <td>0</td>\n",
       "      <td>0</td>\n",
       "      <td>40</td>\n",
       "      <td>Cuba</td>\n",
       "      <td>0</td>\n",
       "    </tr>\n",
       "  </tbody>\n",
       "</table>\n",
       "</div>"
      ],
      "text/plain": [
       "   age          workclass  fnlwgt   education  education-num  \\\n",
       "0   39          State-gov   77516   Bachelors             13   \n",
       "1   50   Self-emp-not-inc   83311   Bachelors             13   \n",
       "2   38            Private  215646     HS-grad              9   \n",
       "3   53            Private  234721        11th              7   \n",
       "4   28            Private  338409   Bachelors             13   \n",
       "\n",
       "        marital-status          occupation    relationship    race      sex  \\\n",
       "0        Never-married        Adm-clerical   Not-in-family   White     Male   \n",
       "1   Married-civ-spouse     Exec-managerial         Husband   White     Male   \n",
       "2             Divorced   Handlers-cleaners   Not-in-family   White     Male   \n",
       "3   Married-civ-spouse   Handlers-cleaners         Husband   Black     Male   \n",
       "4   Married-civ-spouse      Prof-specialty            Wife   Black   Female   \n",
       "\n",
       "   capital-gain  capital-loss  hours-per-week  native-country  income-level  \n",
       "0          2174             0              40   United-States             0  \n",
       "1             0             0              13   United-States             0  \n",
       "2             0             0              40   United-States             0  \n",
       "3             0             0              40   United-States             0  \n",
       "4             0             0              40            Cuba             0  "
      ]
     },
     "execution_count": 4,
     "metadata": {},
     "output_type": "execute_result"
    }
   ],
   "source": [
    "raw_data = pd.read_csv('./census data/adult.data', names=Columns)\n",
    "raw_data.head()"
   ]
  },
  {
   "cell_type": "code",
   "execution_count": 4,
   "metadata": {
    "collapsed": false,
    "scrolled": true
   },
   "outputs": [
    {
     "data": {
      "text/html": [
       "<div>\n",
       "<table border=\"1\" class=\"dataframe\">\n",
       "  <thead>\n",
       "    <tr style=\"text-align: right;\">\n",
       "      <th></th>\n",
       "      <th>age</th>\n",
       "      <th>workclass</th>\n",
       "      <th>fnlwgt</th>\n",
       "      <th>education</th>\n",
       "      <th>education-num</th>\n",
       "      <th>marital-status</th>\n",
       "      <th>occupation</th>\n",
       "      <th>relationship</th>\n",
       "      <th>race</th>\n",
       "      <th>sex</th>\n",
       "      <th>capital-gain</th>\n",
       "      <th>capital-loss</th>\n",
       "      <th>hours-per-week</th>\n",
       "      <th>native-country</th>\n",
       "      <th>income-level</th>\n",
       "    </tr>\n",
       "  </thead>\n",
       "  <tbody>\n",
       "    <tr>\n",
       "      <th>0</th>\n",
       "      <td>39</td>\n",
       "      <td>State-gov</td>\n",
       "      <td>77516</td>\n",
       "      <td>Bachelors</td>\n",
       "      <td>13</td>\n",
       "      <td>Never-married</td>\n",
       "      <td>Adm-clerical</td>\n",
       "      <td>Not-in-family</td>\n",
       "      <td>White</td>\n",
       "      <td>Male</td>\n",
       "      <td>2174</td>\n",
       "      <td>0</td>\n",
       "      <td>40</td>\n",
       "      <td>United-States</td>\n",
       "      <td>0</td>\n",
       "    </tr>\n",
       "    <tr>\n",
       "      <th>1</th>\n",
       "      <td>50</td>\n",
       "      <td>Self-emp-not-inc</td>\n",
       "      <td>83311</td>\n",
       "      <td>Bachelors</td>\n",
       "      <td>13</td>\n",
       "      <td>Married-civ-spouse</td>\n",
       "      <td>Exec-managerial</td>\n",
       "      <td>Husband</td>\n",
       "      <td>White</td>\n",
       "      <td>Male</td>\n",
       "      <td>0</td>\n",
       "      <td>0</td>\n",
       "      <td>13</td>\n",
       "      <td>United-States</td>\n",
       "      <td>0</td>\n",
       "    </tr>\n",
       "    <tr>\n",
       "      <th>2</th>\n",
       "      <td>38</td>\n",
       "      <td>Private</td>\n",
       "      <td>215646</td>\n",
       "      <td>HS-grad</td>\n",
       "      <td>9</td>\n",
       "      <td>Divorced</td>\n",
       "      <td>Handlers-cleaners</td>\n",
       "      <td>Not-in-family</td>\n",
       "      <td>White</td>\n",
       "      <td>Male</td>\n",
       "      <td>0</td>\n",
       "      <td>0</td>\n",
       "      <td>40</td>\n",
       "      <td>United-States</td>\n",
       "      <td>0</td>\n",
       "    </tr>\n",
       "    <tr>\n",
       "      <th>3</th>\n",
       "      <td>53</td>\n",
       "      <td>Private</td>\n",
       "      <td>234721</td>\n",
       "      <td>11th</td>\n",
       "      <td>7</td>\n",
       "      <td>Married-civ-spouse</td>\n",
       "      <td>Handlers-cleaners</td>\n",
       "      <td>Husband</td>\n",
       "      <td>Black</td>\n",
       "      <td>Male</td>\n",
       "      <td>0</td>\n",
       "      <td>0</td>\n",
       "      <td>40</td>\n",
       "      <td>United-States</td>\n",
       "      <td>0</td>\n",
       "    </tr>\n",
       "    <tr>\n",
       "      <th>4</th>\n",
       "      <td>28</td>\n",
       "      <td>Private</td>\n",
       "      <td>338409</td>\n",
       "      <td>Bachelors</td>\n",
       "      <td>13</td>\n",
       "      <td>Married-civ-spouse</td>\n",
       "      <td>Prof-specialty</td>\n",
       "      <td>Wife</td>\n",
       "      <td>Black</td>\n",
       "      <td>Female</td>\n",
       "      <td>0</td>\n",
       "      <td>0</td>\n",
       "      <td>40</td>\n",
       "      <td>Cuba</td>\n",
       "      <td>0</td>\n",
       "    </tr>\n",
       "  </tbody>\n",
       "</table>\n",
       "</div>"
      ],
      "text/plain": [
       "   age          workclass  fnlwgt   education  education-num  \\\n",
       "0   39          State-gov   77516   Bachelors             13   \n",
       "1   50   Self-emp-not-inc   83311   Bachelors             13   \n",
       "2   38            Private  215646     HS-grad              9   \n",
       "3   53            Private  234721        11th              7   \n",
       "4   28            Private  338409   Bachelors             13   \n",
       "\n",
       "        marital-status          occupation    relationship    race      sex  \\\n",
       "0        Never-married        Adm-clerical   Not-in-family   White     Male   \n",
       "1   Married-civ-spouse     Exec-managerial         Husband   White     Male   \n",
       "2             Divorced   Handlers-cleaners   Not-in-family   White     Male   \n",
       "3   Married-civ-spouse   Handlers-cleaners         Husband   Black     Male   \n",
       "4   Married-civ-spouse      Prof-specialty            Wife   Black   Female   \n",
       "\n",
       "   capital-gain  capital-loss  hours-per-week  native-country  income-level  \n",
       "0          2174             0              40   United-States             0  \n",
       "1             0             0              13   United-States             0  \n",
       "2             0             0              40   United-States             0  \n",
       "3             0             0              40   United-States             0  \n",
       "4             0             0              40            Cuba             0  "
      ]
     },
     "execution_count": 4,
     "metadata": {},
     "output_type": "execute_result"
    }
   ],
   "source": [
    "raw_data = pd.read_csv('./census data/adult.data', names=Columns)\n",
    "raw_data.head()"
   ]
  },
  {
   "cell_type": "code",
   "execution_count": 137,
   "metadata": {
    "collapsed": true
   },
   "outputs": [],
   "source": [
    "def id3_preprocess(raw_data, features, drop_feature, num_data):\n",
    "    \n",
    "    drop_feature += ['age', 'education-num', 'capital-gain', 'capital-loss', 'hours-per-week', 'fnlwgt', 'income-level']\n",
    "    \n",
    "    X = raw_data.drop(drop_feature,1)[:num_data]\n",
    "    y = raw_data['income-level'][:num_data]\n",
    "    \n",
    "    return X.as_matrix(), y.as_matrix(), features"
   ]
  },
  {
   "cell_type": "code",
   "execution_count": 147,
   "metadata": {
    "collapsed": true
   },
   "outputs": [],
   "source": [
    "def c45_preprocess(raw_data, features, drop_feature, num_data):\n",
    "    drop_feature += ['fnlwgt', 'income-level']\n",
    "    X = raw_data.drop(drop_feature,1)[:num_data]\n",
    "    y = raw_data['income-level'][:num_data]\n",
    "    \n",
    "    print X.head()\n",
    "    #print y\n",
    "    \n",
    "    for feature in drop_feature:\n",
    "        features.remove(feature)\n",
    "    \n",
    "    con_set = set()\n",
    "    con_list = ['age', 'education-num', 'capital-gain', 'capital-loss', 'hours-per-week']\n",
    "    for i in con_list:\n",
    "        if i in features:\n",
    "            print i\n",
    "            con_set.add(features.index(i))\n",
    "            print features.index(i)\n",
    "    \n",
    "    print con_set\n",
    "    return X.as_matrix(),y.as_matrix(),features, con_set"
   ]
  },
  {
   "cell_type": "code",
   "execution_count": 148,
   "metadata": {
    "collapsed": true
   },
   "outputs": [],
   "source": [
    "def training(raw_data, features, drop_feature, num_data,version,filename):\n",
    "    \n",
    "    if version == 'c45':\n",
    "        X_train, y_train, feature_list, con_set = c45_preprocess(raw_data, features, drop_feature, num_data)\n",
    "        \n",
    "        root = C4_5.C45(continuous=con_set, max_depth=2)\n",
    "        root.fit(X_train, y_train)\n",
    "        \n",
    "        result_list = ['<=50K', '>50K']\n",
    "        \n",
    "        C4_5.draw(root,feature_list, result_list, filename)\n",
    "        \n",
    "    elif version == 'id3':\n",
    "        \n",
    "        X_train, y_train, feature_list = id3_preprocess(raw_data, features, drop_feature, num_data)\n",
    "        \n",
    "        root = ID3.ID3(max_depth=2)\n",
    "        root.fit(X_train, y_train)\n",
    "        \n",
    "        result_list = ['<=50K', '>50K']\n",
    "        \n",
    "        ID3.draw(root,feature_list, result_list, filename)\n",
    "        \n",
    "    else:\n",
    "        print \"version can only be either c45 or id3\""
   ]
  },
  {
   "cell_type": "markdown",
   "metadata": {},
   "source": [
    "## Implementing ID3"
   ]
  },
  {
   "cell_type": "code",
   "execution_count": 149,
   "metadata": {
    "collapsed": false
   },
   "outputs": [
    {
     "name": "stdout",
     "output_type": "stream",
     "text": [
      "Depth too large\n",
      "Depth too large\n",
      "Depth too large\n",
      "Depth too large\n",
      "Depth too large\n",
      "Depth too large\n",
      "Depth too large\n",
      "Depth too large\n",
      "Depth too large\n",
      "Depth too large\n",
      "Depth too large\n",
      "Depth too large\n",
      "Depth too large\n",
      "Depth too large\n",
      "Depth too large\n",
      "Depth too large\n",
      "Depth too large\n",
      "Depth too large\n",
      "Depth too large\n",
      "Depth too large\n",
      "Depth too large\n",
      "Depth too large\n",
      "Depth too large\n",
      "Depth too large\n",
      "Depth too large\n"
     ]
    }
   ],
   "source": [
    "features = ['age', 'workclass', 'fnlwgt', 'education', 'education-num', 'marital-status', 'occupation', 'relationship', 'race', 'sex', 'capital-gain', 'capital-loss', 'hours-per-week', 'native-country','income-level']\n",
    "drop_feature = []\n",
    "num_data = 1000\n",
    "training(raw_data, features, drop_feature, num_data, version='id3', filename = './id3_census_training.png')"
   ]
  },
  {
   "cell_type": "markdown",
   "metadata": {},
   "source": [
    "## Implementing C4.5"
   ]
  },
  {
   "cell_type": "code",
   "execution_count": 150,
   "metadata": {
    "collapsed": false
   },
   "outputs": [
    {
     "name": "stdout",
     "output_type": "stream",
     "text": [
      "   age          workclass   education  education-num       marital-status  \\\n",
      "0   39          State-gov   Bachelors             13        Never-married   \n",
      "1   50   Self-emp-not-inc   Bachelors             13   Married-civ-spouse   \n",
      "2   38            Private     HS-grad              9             Divorced   \n",
      "3   53            Private        11th              7   Married-civ-spouse   \n",
      "4   28            Private   Bachelors             13   Married-civ-spouse   \n",
      "\n",
      "           occupation    relationship    race      sex  capital-gain  \\\n",
      "0        Adm-clerical   Not-in-family   White     Male          2174   \n",
      "1     Exec-managerial         Husband   White     Male             0   \n",
      "2   Handlers-cleaners   Not-in-family   White     Male             0   \n",
      "3   Handlers-cleaners         Husband   Black     Male             0   \n",
      "4      Prof-specialty            Wife   Black   Female             0   \n",
      "\n",
      "   capital-loss  hours-per-week  native-country  \n",
      "0             0              40   United-States  \n",
      "1             0              13   United-States  \n",
      "2             0              40   United-States  \n",
      "3             0              40   United-States  \n",
      "4             0              40            Cuba  \n",
      "age\n",
      "0\n",
      "education-num\n",
      "3\n",
      "capital-gain\n",
      "9\n",
      "capital-loss\n",
      "10\n",
      "hours-per-week\n",
      "11\n",
      "set([0, 9, 10, 3, 11])\n"
     ]
    }
   ],
   "source": [
    "features = ['age', 'workclass', 'fnlwgt', 'education', 'education-num', 'marital-status', 'occupation', 'relationship', 'race', 'sex', 'capital-gain', 'capital-loss', 'hours-per-week', 'native-country','income-level']\n",
    "drop_feature = []\n",
    "num_data = 10000\n",
    "\n",
    "training(raw_data, features, drop_feature, num_data, version = 'c45', filename = './c45_census_training.png')"
   ]
  },
  {
   "cell_type": "code",
   "execution_count": 36,
   "metadata": {
    "collapsed": true
   },
   "outputs": [],
   "source": [
    "root = C4_5.C45(continuous={0,3,9,10,11},max_depth=2)"
   ]
  },
  {
   "cell_type": "code",
   "execution_count": 37,
   "metadata": {
    "collapsed": false
   },
   "outputs": [],
   "source": [
    "root.fit(X_train,y_train)"
   ]
  },
  {
   "cell_type": "code",
   "execution_count": 38,
   "metadata": {
    "collapsed": true
   },
   "outputs": [],
   "source": [
    "feature_list =( ['age', 'workclass', 'education', 'education-num', 'marital-status',         \n",
    "                'occupation', 'relationship','race', 'sex capital-gain', 'capital-loss', 'hours-per-week', 'native-country'] )\n",
    "result_list = ['<=50K', '>50K']"
   ]
  },
  {
   "cell_type": "code",
   "execution_count": 39,
   "metadata": {
    "collapsed": false,
    "scrolled": true
   },
   "outputs": [],
   "source": [
    "C4_5.draw(root,feature_list, result_list, './c45_census.png')"
   ]
  },
  {
   "cell_type": "code",
   "execution_count": 40,
   "metadata": {
    "collapsed": false
   },
   "outputs": [
    {
     "data": {
      "text/plain": [
       "0.8"
      ]
     },
     "execution_count": 40,
     "metadata": {},
     "output_type": "execute_result"
    }
   ],
   "source": [
    "from sklearn.model_selection import train_test_split\n",
    "\n",
    "X_train2, X_test, y_train2, y_test = train_test_split(X_train, y_train, test_size=0.2, random_state=42)\n",
    "\n",
    "clf = C4_5.C45(continuous={0,3,9,10,11})\n",
    "clf.fit(X_train2, y_train2)\n",
    "clf.score(X_test, y_test)"
   ]
  },
  {
   "cell_type": "code",
   "execution_count": 41,
   "metadata": {
    "collapsed": false,
    "scrolled": true
   },
   "outputs": [
    {
     "data": {
      "text/plain": [
       "(2000, 13)"
      ]
     },
     "execution_count": 41,
     "metadata": {},
     "output_type": "execute_result"
    }
   ],
   "source": [
    "X_test.shape"
   ]
  },
  {
   "cell_type": "markdown",
   "metadata": {},
   "source": [
    "# Functionalized Training Procedure"
   ]
  },
  {
   "cell_type": "markdown",
   "metadata": {},
   "source": [
    "### Using subfeatures for training"
   ]
  },
  {
   "cell_type": "markdown",
   "metadata": {},
   "source": [
    "#### education and occupation are stronly related, so we are going to use only one of them."
   ]
  },
  {
   "cell_type": "markdown",
   "metadata": {},
   "source": [
    "##### implementing ID3"
   ]
  },
  {
   "cell_type": "markdown",
   "metadata": {},
   "source": [
    "##### Without education"
   ]
  },
  {
   "cell_type": "code",
   "execution_count": 121,
   "metadata": {
    "collapsed": false,
    "scrolled": true
   },
   "outputs": [
    {
     "name": "stdout",
     "output_type": "stream",
     "text": [
      "           workclass       marital-status          occupation    relationship  \\\n",
      "0          State-gov        Never-married        Adm-clerical   Not-in-family   \n",
      "1   Self-emp-not-inc   Married-civ-spouse     Exec-managerial         Husband   \n",
      "2            Private             Divorced   Handlers-cleaners   Not-in-family   \n",
      "3            Private   Married-civ-spouse   Handlers-cleaners         Husband   \n",
      "4            Private   Married-civ-spouse      Prof-specialty            Wife   \n",
      "\n",
      "     race      sex  native-country  \n",
      "0   White     Male   United-States  \n",
      "1   White     Male   United-States  \n",
      "2   White     Male   United-States  \n",
      "3   Black     Male   United-States  \n",
      "4   Black   Female            Cuba  \n",
      "Depth too large\n",
      "Depth too large\n",
      "Depth too large\n",
      "Depth too large\n",
      "Depth too large\n",
      "Depth too large\n",
      "Depth too large\n",
      "Depth too large\n",
      "Depth too large\n",
      "Depth too large\n",
      "Depth too large\n",
      "Depth too large\n",
      "Depth too large\n",
      "Depth too large\n",
      "Depth too large\n",
      "Depth too large\n",
      "Depth too large\n",
      "Depth too large\n",
      "Depth too large\n",
      "Depth too large\n",
      "Depth too large\n",
      "Depth too large\n",
      "Depth too large\n",
      "Depth too large\n",
      "Depth too large\n",
      "Depth too large\n"
     ]
    }
   ],
   "source": [
    "features = ['age', 'workclass', 'fnlwgt', 'education', 'education-num', 'marital-status', 'occupation', 'relationship', 'race', 'sex', 'capital-gain', 'capital-loss', 'hours-per-week', 'native-country','income-level']\n",
    "drop_feature = ['education']\n",
    "num_data = 1000\n",
    "training(raw_data, features, drop_feature, num_data, version='id3', filename = './id3_census_without_edu.png')"
   ]
  },
  {
   "cell_type": "markdown",
   "metadata": {},
   "source": [
    "##### Without occupation"
   ]
  },
  {
   "cell_type": "code",
   "execution_count": 122,
   "metadata": {
    "collapsed": false,
    "scrolled": true
   },
   "outputs": [
    {
     "name": "stdout",
     "output_type": "stream",
     "text": [
      "           workclass   education       marital-status    relationship    race  \\\n",
      "0          State-gov   Bachelors        Never-married   Not-in-family   White   \n",
      "1   Self-emp-not-inc   Bachelors   Married-civ-spouse         Husband   White   \n",
      "2            Private     HS-grad             Divorced   Not-in-family   White   \n",
      "3            Private        11th   Married-civ-spouse         Husband   Black   \n",
      "4            Private   Bachelors   Married-civ-spouse            Wife   Black   \n",
      "\n",
      "       sex  native-country  \n",
      "0     Male   United-States  \n",
      "1     Male   United-States  \n",
      "2     Male   United-States  \n",
      "3     Male   United-States  \n",
      "4   Female            Cuba  \n",
      "Depth too large\n",
      "Depth too large\n",
      "Depth too large\n",
      "Depth too large\n",
      "Depth too large\n",
      "Depth too large\n",
      "Depth too large\n",
      "Depth too large\n",
      "Depth too large\n",
      "Depth too large\n",
      "Depth too large\n",
      "Depth too large\n",
      "Depth too large\n",
      "Depth too large\n",
      "Depth too large\n",
      "Depth too large\n",
      "Depth too large\n",
      "Depth too large\n",
      "Depth too large\n",
      "Depth too large\n",
      "Depth too large\n",
      "Depth too large\n",
      "Depth too large\n",
      "Depth too large\n",
      "Depth too large\n"
     ]
    }
   ],
   "source": [
    "features = ['age', 'workclass', 'fnlwgt', 'education', 'education-num', 'marital-status', 'occupation', 'relationship', 'race', 'sex', 'capital-gain', 'capital-loss', 'hours-per-week', 'native-country','income-level']\n",
    "drop_feature = ['occupation']\n",
    "num_data = 1000\n",
    "training(raw_data, features, drop_feature, num_data, version='id3', filename = './id3_census_without_occ.png')"
   ]
  },
  {
   "cell_type": "markdown",
   "metadata": {},
   "source": [
    "##### impleenting C4.5"
   ]
  },
  {
   "cell_type": "markdown",
   "metadata": {},
   "source": [
    "##### Without education"
   ]
  },
  {
   "cell_type": "code",
   "execution_count": 123,
   "metadata": {
    "collapsed": false,
    "scrolled": true
   },
   "outputs": [
    {
     "name": "stdout",
     "output_type": "stream",
     "text": [
      "   age          workclass  education-num       marital-status  \\\n",
      "0   39          State-gov             13        Never-married   \n",
      "1   50   Self-emp-not-inc             13   Married-civ-spouse   \n",
      "2   38            Private              9             Divorced   \n",
      "3   53            Private              7   Married-civ-spouse   \n",
      "4   28            Private             13   Married-civ-spouse   \n",
      "\n",
      "           occupation    relationship    race      sex  capital-gain  \\\n",
      "0        Adm-clerical   Not-in-family   White     Male          2174   \n",
      "1     Exec-managerial         Husband   White     Male             0   \n",
      "2   Handlers-cleaners   Not-in-family   White     Male             0   \n",
      "3   Handlers-cleaners         Husband   Black     Male             0   \n",
      "4      Prof-specialty            Wife   Black   Female             0   \n",
      "\n",
      "   capital-loss  hours-per-week  native-country  \n",
      "0             0              40   United-States  \n",
      "1             0              13   United-States  \n",
      "2             0              40   United-States  \n",
      "3             0              40   United-States  \n",
      "4             0              40            Cuba  \n",
      "set(['education-num', 'capital-loss', 'age', 'capital-gain', 'hours-per-week'])\n"
     ]
    }
   ],
   "source": [
    "features = ['age', 'workclass', 'fnlwgt', 'education', 'education-num', 'marital-status', 'occupation', 'relationship', 'race', 'sex', 'capital-gain', 'capital-loss', 'hours-per-week', 'native-country','income-level']\n",
    "drop_feature = ['education']\n",
    "num_data = 10000\n",
    "\n",
    "training(raw_data, features, drop_feature, num_data, version = 'c45', filename = './c45_census_without_edu.png')"
   ]
  },
  {
   "cell_type": "markdown",
   "metadata": {},
   "source": [
    "##### Without occupation"
   ]
  },
  {
   "cell_type": "code",
   "execution_count": 124,
   "metadata": {
    "collapsed": false,
    "scrolled": false
   },
   "outputs": [
    {
     "name": "stdout",
     "output_type": "stream",
     "text": [
      "   age          workclass   education  education-num       marital-status  \\\n",
      "0   39          State-gov   Bachelors             13        Never-married   \n",
      "1   50   Self-emp-not-inc   Bachelors             13   Married-civ-spouse   \n",
      "2   38            Private     HS-grad              9             Divorced   \n",
      "3   53            Private        11th              7   Married-civ-spouse   \n",
      "4   28            Private   Bachelors             13   Married-civ-spouse   \n",
      "\n",
      "     relationship    race      sex  capital-gain  capital-loss  \\\n",
      "0   Not-in-family   White     Male          2174             0   \n",
      "1         Husband   White     Male             0             0   \n",
      "2   Not-in-family   White     Male             0             0   \n",
      "3         Husband   Black     Male             0             0   \n",
      "4            Wife   Black   Female             0             0   \n",
      "\n",
      "   hours-per-week  native-country  \n",
      "0              40   United-States  \n",
      "1              13   United-States  \n",
      "2              40   United-States  \n",
      "3              40   United-States  \n",
      "4              40            Cuba  \n",
      "set(['education-num', 'capital-loss', 'age', 'capital-gain', 'hours-per-week'])\n"
     ]
    }
   ],
   "source": [
    "features = ['age', 'workclass', 'fnlwgt', 'education', 'education-num', 'marital-status', 'occupation', 'relationship', 'race', 'sex', 'capital-gain', 'capital-loss', 'hours-per-week', 'native-country','income-level']\n",
    "drop_feature = ['occupation']\n",
    "num_data = 10000\n",
    "\n",
    "training(raw_data, features, drop_feature, num_data, version = 'c45', filename = './c45_census_without_occ.png')"
   ]
  },
  {
   "cell_type": "markdown",
   "metadata": {},
   "source": [
    "### Using merged features for training"
   ]
  },
  {
   "cell_type": "markdown",
   "metadata": {},
   "source": [
    "#### under high school\n",
    "11th, 9th, 7th-8th, 12th, 1st-4th, 10th, 5th-6th are merged together.\n",
    "#### working for gov\n",
    "Federal-gov, Local-gov, State-gov are merged together.\n"
   ]
  },
  {
   "cell_type": "code",
   "execution_count": null,
   "metadata": {
    "collapsed": true
   },
   "outputs": [],
   "source": []
  }
 ],
 "metadata": {
  "kernelspec": {
   "display_name": "Python 2",
   "language": "python",
   "name": "python2"
  },
  "language_info": {
   "codemirror_mode": {
    "name": "ipython",
    "version": 2
   },
   "file_extension": ".py",
   "mimetype": "text/x-python",
   "name": "python",
   "nbconvert_exporter": "python",
   "pygments_lexer": "ipython2",
   "version": "2.7.10"
  }
 },
 "nbformat": 4,
 "nbformat_minor": 1
}
